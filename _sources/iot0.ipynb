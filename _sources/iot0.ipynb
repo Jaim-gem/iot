{
 "cells": [
  {
   "cell_type": "markdown",
   "id": "0e7be99a",
   "metadata": {},
   "source": [
    "# **So who cares? And why is IoT important?**\n",
    "&nbsp; \n",
    "\n",
    "For one thing, businesses large and small care (and they care to the tune of several millions of dollars as well). The Internet of Things provides businesses with a real-time look into their systems, delivering insights on the performance of machines, operations along the supply chain and everything in between. For instance, consider the operations of a small toy manufacturer - the manufacturing machine which assembles the toys and the conveyor belt can both be equipped with sensors so that they continuously send data on the numbers of toys manufactured, the health of the assembly machines, information on the products, etc to the manufacturer so they can monitor their company’s output and detect any potential issues beforehand. Each toy also has a barcode attached to it before leaving the assembly line so the manufacturer can track where each product is located and be able to track their inventory so that they can ensure they do not run out of stock.\n",
    "\n",
    "&nbsp;\n",
    "\n",
    "The toy manufacturer example is just one use case of the IoT in business. Some applications of the IoT are more industry specific however the more common applications involve:\n",
    "\n",
    "- Automating company processes and so reducing labour costs;\n",
    "- Monitoring the overall business functionality and processes;\n",
    "- Improving customer experience by improving service delivery and company efficiency; and\n",
    "- Giving business the ability to make more data-driven decisions.\n",
    "\n",
    "&nbsp; \n",
    "\n",
    "\n",
    "![alt text](https://itchronicles.com/wp-content/uploads/2020/09/industrial-internet-of-things-and-innovative-manufacturing-vector-id1164502226.jpg.webp \"The IoT Business\")\n",
    "\n",
    "<sup>Credit: IT Chronicles 2022</sup>\n",
    "\n",
    "For businesses, IoT has become one of the most important technologies for their functionality and will continue to gain traction as more and more people realise the power of this phenomenon. But what about the IoT in everyday life? Well, in addition to offering smart devices to automate businesses, IoT has become essential in many modern homes. \n",
    "\n",
    "Some of us will remember the futuristic homes depicted in the classic sitcom ‘The Jetsons’, however that technology is not too far off from what is possible today. I’ve made you think about the possibility of waking up with your coffee ready, your curtains drawn, your dog fed and your lawn watered without you having to lift a finger because this is, in fact, possible with current IoT technologies. The smart home is perhaps the most popular IoT application at the moment as it is the one most affordable and readily accessible to consumers. Not everyone has a fully automated smart home but most of us are accustomed with smaller IoT instances - our smart TVs are examples of IoT, so too are our voice assistants like Samsung’s ‘Bixby’, Apple’s ‘Siri’ and Amazon’s ‘Alexa’, which we can interface with to give us a weather report, play music, order food, and so on. Some of us may have appliances which can be controlled remotely like smart thermostats, for instance, and our wearables like the Apple Watch or Fitbit track our steps, exercise routine, calories burned and sleep quality. These devices can also sync with our computers and smartphones wirelessly to transmit our health data in easy to understand charts so we can monitor our progress. From the many hundreds of products on the market nowadays, IoT allows us to make our lives more transparent and connected than ever. \n",
    "\n",
    "&nbsp; \n",
    "\n",
    "![alt text](https://icdn.digitaltrends.com/image/digitaltrends/jetsons-instant-food-v2-1200x800.jpg \"The IoT Home - The Jetsons\")\n",
    "\n",
    "<sup>Credit: DigitalTrends 2022</sup> \n",
    "\n",
    "&nbsp; \n",
    "\n",
    "\n",
    "And not just in our homes and businesses, IoT products have gained traction in some cities worldwide creating the anomalous ‘smart cities’. The Spanish city of Barcelona is one of these - implementing many IoT initiatives, Barcelona now allows easier transportation through public car and bike sharing, autonomous vehicles and smart parking, improved healthcare through integrated patient flow management and infectious disease monitoring, and improved security through predictive policing, to name a few examples.\n",
    "\n",
    "&nbsp; \n",
    "\n",
    "With so many real-world applications, IoT is becoming one of the most essential technologies for everyday life, and it will continue to pick up steam as more individuals realise the benefits of living a connected life.\n",
    "\n",
    "&nbsp; \n",
    "\n",
    "![alt text](https://martech.org/wp-content/uploads/2017/08/IoT-ss-1920-8.png \"The IoT Home\")\n",
    "\n",
    "<sup>Credit: MarTech 2022</sup>"
   ]
  }
 ],
 "metadata": {
  "kernelspec": {
   "display_name": "Python 3 (ipykernel)",
   "language": "python",
   "name": "python3"
  },
  "language_info": {
   "codemirror_mode": {
    "name": "ipython",
    "version": 3
   },
   "file_extension": ".py",
   "mimetype": "text/x-python",
   "name": "python",
   "nbconvert_exporter": "python",
   "pygments_lexer": "ipython3",
   "version": "3.8.12"
  }
 },
 "nbformat": 4,
 "nbformat_minor": 5
}
