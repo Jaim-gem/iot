{
 "cells": [
  {
   "cell_type": "markdown",
   "id": "b81c07d0",
   "metadata": {},
   "source": [
    "# **Short Quiz** \n",
    " &nbsp; \n",
    "\n",
    "\n",
    "\n",
    "**Can you answer these questions on IoT?** &nbsp; Let's see how much you remember...\n",
    "\n",
    "&nbsp; \n",
    "\n",
    "- **What are two devices that are used in an IoT system?**\n",
    "\n",
    "```{toggle}\n",
    " IoT systems have sensors, actuators, hubs and IoT devices. \n",
    "```\n",
    "- **What is an actuator?**\n",
    "\n",
    "```{toggle}\n",
    " An actuator converts an electrical signal into kinetic energy, and generates movement. \n",
    "```\n",
    "- **What are two functionality features of an efficient IoT system?**\n",
    "\n",
    "```{toggle}\n",
    " Some features are: use of sensors, Artificial Intelligence, collection of data and real time monitoring.\n",
    "```\n",
    "- **Give two examples of IoT devices found in IoT smart homes.**\n",
    "\n",
    "```{toggle}\n",
    " Examples include: smart wearables (watches and bracelets), smart fridge, smart thermostat\n",
    "\n",
    "```\n",
    "- **What are the major security issues surrounding IoT systems?**\n",
    "\n",
    "```{toggle}\n",
    " Major concerns are cybersecurity issues and data privacy.\n",
    "```\n",
    "- **Other than security, what are some of the drawbacks preventing IoT systems from being commonplace?**\n",
    "\n",
    "```{toggle}\n",
    "Complexity, flexibility and cost prevent IoT systems from being more common.\n",
    "```\n"
   ]
  }
 ],
 "metadata": {
  "kernelspec": {
   "display_name": "Python 3 (ipykernel)",
   "language": "python",
   "name": "python3"
  },
  "language_info": {
   "codemirror_mode": {
    "name": "ipython",
    "version": 3
   },
   "file_extension": ".py",
   "mimetype": "text/x-python",
   "name": "python",
   "nbconvert_exporter": "python",
   "pygments_lexer": "ipython3",
   "version": "3.8.12"
  }
 },
 "nbformat": 4,
 "nbformat_minor": 5
}
