{
 "cells": [
  {
   "cell_type": "markdown",
   "id": "d796a60c",
   "metadata": {},
   "source": [
    "# **How does IoT work?**\n",
    "&nbsp; \n",
    "\n",
    "\n",
    "At this point you’ve heard about what the IoT is, but how does it work? Easy! Things communicate similarly to us humans - the way we learn to talk to one another using a common language is the same way ‘things’ can learn to communicate with one another. The typical IoT ecosystem consists of web-enabled devices that use sensors and other communication hardware to collect, send and receive data on their environment. The collected data can be sent to the cloud to be analysed or be stored and analysed in some local, on-site storage. These smart devices mostly work without the need for human intervention and sit silently in the background ingesting all the data and information we feed them - at times, the most human interaction we may need is to set them up.\n",
    "\n",
    "As you might imagine, the IoT uses a lot of Artificial Intelligence to function. IoT systems tend to use AI to help optimise the automation of the devices in the IoT network (for instance, in a self-driving car we naturally need AI for the car to avoid traffic by detecting oncoming vehicles as well as to find the optimal route to our destination). \n",
    "\n",
    "&nbsp; \n",
    "\n",
    "![alt text](https://qph.fs.quoracdn.net/main-qimg-f501c14d283453e9287848ebf63c6b77 \"IoT System Example 1\")\n",
    "\n",
    "&nbsp; \n",
    "\n",
    "\n",
    "In general, the IoT system requires the following components for proper functionality:\n",
    "\n",
    "- **Sensors** - these act as the devices that obtain information from the environment around. This allows for quick reactions to any changes in environment, and real-world integration\n",
    "- **Small Devices** - These carry out all the tasks involved, usually automatically, without the need to be checked often. This is important as IoT systems function best in the background unnoticed.\n",
    "- **Connectivity** - All devices in an IoT system are connected in some way, usually wirelessly (e.g. via Bluetooth, the Internet). This facilitates easy transfer of information between devices, and another key feature on this list!\n",
    "- **Artificial Intelligence** - IoT systems obtain a lot of information from the environment it is in through sensors. Artificial Intelligence facilitates the use of this information to customise the performance of the IoT system, to further optimise and improve on efficiency and effectiveness. \n",
    "- **Active Engagements** - IoT systems, via artificial intelligence and human interaction, allow for a lot of active engagement between the user and the system. This is one of the major improvements of IoT systems over previous technology.\n",
    "\n",
    "&nbsp; \n",
    "\n",
    "![alt text](https://cdn.ttgtmedia.com/rms/onlineimages/iota-iot_system.png \"IoT System Example\")\n"
   ]
  },
  {
   "cell_type": "markdown",
   "id": "eb642d86",
   "metadata": {},
   "source": [
    "<sup>Credit: TechTarget 2018</sup>"
   ]
  },
  {
   "cell_type": "markdown",
   "id": "ef131147",
   "metadata": {},
   "source": [
    "&nbsp; "
   ]
  },
  {
   "cell_type": "markdown",
   "id": "118c8555",
   "metadata": {},
   "source": [
    "## Devices that Make Up an IoT System"
   ]
  },
  {
   "cell_type": "markdown",
   "id": "a4dd345d",
   "metadata": {},
   "source": [
    "&nbsp; \n",
    "\n",
    "The different types of devices that make up an IoT system are:\n",
    "\n",
    "- **Sensors**: these act as the devices that obtain information from the environment around. They observe changes in the environment and convert these changes into electrical signals. Some examples of sensors are optical sensors in cameras, sound sensors and motion sensors.\n",
    "&nbsp; \n",
    "\n",
    "- **Actuators**: These are devices that receive the electrical signals sent by the sensors and convert them into a form that can be understood by IoT devices to generate some form of movement or mechanical output. Examples of actuators are motion-sensor controlled doors and camera systems that react to any recorded movement. They can use many different ways of generating the energy to create the motion, such as hydraulics, magnetic fields, electrical currents and thermal energy. \n",
    "&nbsp; \n",
    "\n",
    "- **IoT hubs**: These devices are the brain of any IoT system. They coordinate input and output from sensors, actuators and IoT devices to control the IoT environment and maintain a good state. Phones, computers, external servers and microcontrollers such as the Arduino, Jetson Nano and the Raspberry Pi can be used as the hub for IoT systems. \n",
    "&nbsp; \n",
    "\n",
    "- **IoT devices**: These are devices that carry out tasks within the IoT system. They are usually interconnected, and use data from other devices to determine what function they have to carry out. Some examples of IoT devices are smart refrigerators, cameras and smart wearables such as smart watches and glasses."
   ]
  }
 ],
 "metadata": {
  "kernelspec": {
   "display_name": "Python 3 (ipykernel)",
   "language": "python",
   "name": "python3"
  },
  "language_info": {
   "codemirror_mode": {
    "name": "ipython",
    "version": 3
   },
   "file_extension": ".py",
   "mimetype": "text/x-python",
   "name": "python",
   "nbconvert_exporter": "python",
   "pygments_lexer": "ipython3",
   "version": "3.8.12"
  }
 },
 "nbformat": 4,
 "nbformat_minor": 5
}
