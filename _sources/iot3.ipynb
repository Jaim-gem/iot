{
 "cells": [
  {
   "cell_type": "markdown",
   "id": "62191958",
   "metadata": {},
   "source": [
    "# **The Future of the IoT**\n",
    "&nbsp; \n"
   ]
  },
  {
   "cell_type": "markdown",
   "id": "d08fb685",
   "metadata": {},
   "source": [
    "The future of IoT can be split into 3 different areas:\n",
    "\n",
    "- Making IoT much more easily accessible. <br>\n",
    "- Minimising the negative connotations around IoT systems.<br>\n",
    "- Improving on the benefits IoT systems offer over previous technologies.<br>\n",
    "\n",
    "The major accessibility issues many persons have with both consumer IoT and enterprise IoT systems is that it is usually expensive to implement. For most IoT systems there are 3 key ways in which the costs can be reduced: by using LPWANs (Low-Power Wide Area Networks), cheaper sensors and software tools.\n",
    "&nbsp; \n",
    "\n",
    "LPWAN networks support a greater number of devices connected to the network while using less power to run over a wider area range. This network is optimised for sensors and hardware devices that are fully autonomous and don’t need a lot of human interaction. By being a network that facilitates only simple devices that do not generate lots of network traffic, this network becomes a cost-efficient, optimal way to connect devices over an IoT system. Some of the most popular LPWANs are LoRa (developed by SemTech) and NarrowBand - Internet of Things (NB-IoT).\n",
    "\n",
    "These LPWANs usually require sensors with their own branded chipset, with specific software tools developed to allow for interconnectivity with their own devices. With more tech companies entering the business of IoT, competition can drive the prices of IoT hardware down to competitive rates. By companies developing their own infrastructure for an IoT system, the issue of flexibility (the ability to facilitate new IoT devices within the IoT framework) can also be dealt with. As developers become more experienced using LPWANs, the complexity issue of IoT systems can be resolved.\n",
    "\n",
    "IoT implementations will become more advanced as other technologies also improve. We may see the advent of Home Robots as an improvement on IoT homes. Autonomous vehicles are already being developed, but with road safety being an important factor that may be further down the line. With improvements in AI, IoT systems will improve as well. Techniques such as Natural Language Processing (NLP) and video analytics can lead to voice identification security as a security factor, and better video identification for home security systems.\n",
    "\n",
    "In the future, IoT will become invisible. IoT devices will become so commonplace that they won’t be acknowledged as a technological innovation. Eventually it will be strange to not have real time analysis and monitoring in all business environments. Checking devices manually will become a thing of the past, why check them when you will get a notification if anything is not operating as it should? AI will tell you when certain actions need to be taken.\n",
    "\n",
    "Health care will be data-driven, with human error being eliminated wherever it can be. Households will be maintained by IoT systems, lights turned on just before someone gets home from work, doors locked after a certain time when the system knows no one is home, thermostats controlled based on a person’s sleeping pattern. Groceries will be ordered online when the smart fridge detects a shortage of certain items.\n",
    "\n",
    "**The future of IoT is very broad, and with further advancements in complementary technologies, the possibilities are limitless.**\n",
    "\n",
    "&nbsp; "
   ]
  }
 ],
 "metadata": {
  "kernelspec": {
   "display_name": "Python 3 (ipykernel)",
   "language": "python",
   "name": "python3"
  },
  "language_info": {
   "codemirror_mode": {
    "name": "ipython",
    "version": 3
   },
   "file_extension": ".py",
   "mimetype": "text/x-python",
   "name": "python",
   "nbconvert_exporter": "python",
   "pygments_lexer": "ipython3",
   "version": "3.8.12"
  }
 },
 "nbformat": 4,
 "nbformat_minor": 5
}
